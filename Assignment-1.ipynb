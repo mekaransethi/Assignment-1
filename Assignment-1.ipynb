{
 "cells": [
  {
   "cell_type": "raw",
   "id": "7436e854-5b90-42df-beee-500dd5c9fa03",
   "metadata": {},
   "source": [
    "Q1. Create one variable containing following type of data:\n",
    "(i) string\n",
    "(ii) list\n",
    "(iii) float\n",
    "(iv) tuple"
   ]
  },
  {
   "cell_type": "code",
   "execution_count": 4,
   "id": "f7f06c62-6622-4c13-9893-e43b5c62f8b9",
   "metadata": {},
   "outputs": [],
   "source": [
    "var=['Kriti',3.4,[1,2,3],(3,4,5)]"
   ]
  },
  {
   "cell_type": "raw",
   "id": "702a1f3a-d501-4213-83ed-0f379f85b5a9",
   "metadata": {},
   "source": [
    "Q2. Given are some following variables containing data:\n",
    "(i) var1 = ‘ ‘\n",
    "(ii) var2 = ‘[ DS , ML , Python]’\n",
    "(iii) var3 = [ ‘DS’ , ’ML’ , ‘Python’ ]\n",
    "(iv) var4 = 1."
   ]
  },
  {
   "cell_type": "code",
   "execution_count": 18,
   "id": "eafd2956-1edf-460c-a840-1b783af00db7",
   "metadata": {},
   "outputs": [
    {
     "name": "stdout",
     "output_type": "stream",
     "text": [
      "var1:<class 'str'>\n",
      "var2:<class 'str'>\n",
      "var3:<class 'list'>\n",
      "var4:<class 'float'>\n"
     ]
    }
   ],
   "source": [
    "var1 = ''\n",
    "var2 = '[ DS , ML , Python]'\n",
    "var3 = [ 'DS' , 'ML' , 'Python']\n",
    "var4 = 1.\n",
    "print('var1:' + str(type(var1)))\n",
    "print('var2:' + str(type(var2)))\n",
    "print('var3:' + str(type(var3)))\n",
    "print('var4:' + str(type(var4)))"
   ]
  },
  {
   "cell_type": "raw",
   "id": "b00c743d-372a-45b8-bf08-793c6930197c",
   "metadata": {},
   "source": [
    "(i) str\n",
    "(ii) str\n",
    "(iii) list\n",
    "(iv) float"
   ]
  },
  {
   "cell_type": "raw",
   "id": "91fc1023-b287-4a5a-92d6-ad07c2e6741e",
   "metadata": {},
   "source": [
    "Q3. Explain the use of the following operators using an example:\n",
    "(i) /\n",
    "(ii) %\n",
    "(iii) //\n",
    "(iv) **"
   ]
  },
  {
   "cell_type": "raw",
   "id": "e87ca623-d2e3-4b2d-add8-307c5758c419",
   "metadata": {},
   "source": [
    "/ Division\n",
    "% Modulus \n",
    "// Floor division\n",
    "** Exponentiation (Power of)"
   ]
  },
  {
   "cell_type": "code",
   "execution_count": 22,
   "id": "ad8c4513-11ea-4375-8dec-9e73d5ea36ce",
   "metadata": {},
   "outputs": [
    {
     "name": "stdout",
     "output_type": "stream",
     "text": [
      "0.4\n",
      "2\n",
      "0\n",
      "32\n"
     ]
    }
   ],
   "source": [
    "x = 2\n",
    "y = 5\n",
    "\n",
    "print(x / y)\n",
    "print(x % y)\n",
    "print(x // y)\n",
    "print(x ** y)"
   ]
  },
  {
   "cell_type": "raw",
   "id": "63051fdb-856e-43a0-81df-6a8dde40f1d6",
   "metadata": {},
   "source": [
    "Q4. Create a list of length 10 of your choice containing multiple types of data. Using for loop print the\n",
    "element and its data type."
   ]
  },
  {
   "cell_type": "code",
   "execution_count": 25,
   "id": "c7a30b7b-1f8a-40fa-b49b-92d95cc9171d",
   "metadata": {},
   "outputs": [],
   "source": [
    "list1=['Kriti',3.4,[1,2,3],(3,4,5),1,3,4.000,'Uppal','1',9]"
   ]
  },
  {
   "cell_type": "code",
   "execution_count": 37,
   "id": "881a6904-03a7-4e94-b744-ff532522992a",
   "metadata": {},
   "outputs": [
    {
     "name": "stdout",
     "output_type": "stream",
     "text": [
      "Kriti <class 'str'>\n",
      "3.4 <class 'float'>\n",
      "[1, 2, 3] <class 'list'>\n",
      "(3, 4, 5) <class 'tuple'>\n",
      "1 <class 'int'>\n",
      "3 <class 'int'>\n",
      "4.0 <class 'float'>\n",
      "Uppal <class 'str'>\n",
      "1 <class 'str'>\n",
      "9 <class 'int'>\n"
     ]
    }
   ],
   "source": [
    "len(list1)\n",
    "\n",
    "for i in list1:\n",
    "    print(str(i)+\" \"+ str(type(i)))"
   ]
  },
  {
   "cell_type": "raw",
   "id": "7c01d7e4-588a-45c5-878b-d1d01b2ce8a4",
   "metadata": {},
   "source": [
    "Q5. Using a while loop, verify if the number A is purely divisible by number B and if so then how many\n",
    "times it can be divisible."
   ]
  },
  {
   "cell_type": "code",
   "execution_count": 64,
   "id": "5631e68f-abcb-4f48-a31e-36628ced72f9",
   "metadata": {},
   "outputs": [
    {
     "name": "stdin",
     "output_type": "stream",
     "text": [
      "Enter the value of A 9\n",
      "Enter the value of B 2\n"
     ]
    },
    {
     "name": "stdout",
     "output_type": "stream",
     "text": [
      "9 is not purely divisible by number 2\n"
     ]
    }
   ],
   "source": [
    "a=int(input('Enter the value of A'))\n",
    "b=int(input('Enter the value of B'))\n",
    "\n",
    "while a%b==0:\n",
    "    print(a//b)\n",
    "    break\n",
    "else:\n",
    "    print(str(a)+' is not purely divisible by number '+str(b))"
   ]
  },
  {
   "cell_type": "raw",
   "id": "0c7984f1-7f20-45d7-ac76-451813946869",
   "metadata": {},
   "source": [
    "Q6. Create a list containing 25 int type data. Using for loop and if-else condition print if the element is\n",
    "divisible by 3 or not."
   ]
  },
  {
   "cell_type": "code",
   "execution_count": 75,
   "id": "dd9c951f-35b0-4c56-9301-3a5c2640a618",
   "metadata": {},
   "outputs": [
    {
     "name": "stdout",
     "output_type": "stream",
     "text": [
      "25\n",
      "[329, 17, 184, 694, 534, 295, 191, 844, 875, 356, 161, 649, 630, 209, 816, 190, 856, 401, 953, 300, 321, 505, 278, 458, 724]\n",
      "329 not divisible by 3\n",
      "17 not divisible by 3\n",
      "184 not divisible by 3\n",
      "694 not divisible by 3\n",
      "534 divisible by 3\n",
      "295 not divisible by 3\n",
      "191 not divisible by 3\n",
      "844 not divisible by 3\n",
      "875 not divisible by 3\n",
      "356 not divisible by 3\n",
      "161 not divisible by 3\n",
      "649 not divisible by 3\n",
      "630 divisible by 3\n",
      "209 not divisible by 3\n",
      "816 divisible by 3\n",
      "190 not divisible by 3\n",
      "856 not divisible by 3\n",
      "401 not divisible by 3\n",
      "953 not divisible by 3\n",
      "300 divisible by 3\n",
      "321 divisible by 3\n",
      "505 not divisible by 3\n",
      "278 not divisible by 3\n",
      "458 not divisible by 3\n",
      "724 not divisible by 3\n"
     ]
    }
   ],
   "source": [
    "import random\n",
    "var1=[]\n",
    "for i in range(0,25):\n",
    "    var1.append(random.randint(10,1000))\n",
    "    \n",
    "print(len(var1))\n",
    "\n",
    "print(var1)\n",
    "\n",
    "for i in var1:\n",
    "    if(i%3)==0:\n",
    "        print(str(i)+' divisible by 3')\n",
    "    else:\n",
    "        print(str(i)+' not divisible by 3')"
   ]
  },
  {
   "cell_type": "raw",
   "id": "20a5760d-0a8c-4a3d-b314-dc850811a181",
   "metadata": {},
   "source": [
    "Q7. What do you understand about mutable and immutable data types? Give examples for both showing\n",
    "this property."
   ]
  },
  {
   "cell_type": "raw",
   "id": "d07903ed-d689-41e3-aa74-b734ac6e8697",
   "metadata": {},
   "source": [
    "A mutable object can be changed after it is created\n",
    "Examples : List, Set, Dictionary.\n",
    "\n",
    "An immutable object cannot be changed after it is created\n",
    "Exg: tuple, int, float, bool, str."
   ]
  },
  {
   "cell_type": "code",
   "execution_count": null,
   "id": "e30395c8-4efd-4e0a-9ee8-4348c703dc2b",
   "metadata": {},
   "outputs": [],
   "source": []
  }
 ],
 "metadata": {
  "kernelspec": {
   "display_name": "Python 3 (ipykernel)",
   "language": "python",
   "name": "python3"
  },
  "language_info": {
   "codemirror_mode": {
    "name": "ipython",
    "version": 3
   },
   "file_extension": ".py",
   "mimetype": "text/x-python",
   "name": "python",
   "nbconvert_exporter": "python",
   "pygments_lexer": "ipython3",
   "version": "3.10.8"
  }
 },
 "nbformat": 4,
 "nbformat_minor": 5
}
